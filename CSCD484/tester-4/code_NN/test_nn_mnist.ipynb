{
 "cells": [
  {
   "cell_type": "markdown",
   "id": "ad20f53c-6ac8-477a-9e4e-ff6dd98ecc24",
   "metadata": {},
   "source": [
    "# Testing the dense NN for classification using the MNIST image data\n",
    "\n",
    "## Author: Bojian Xu, bojianxu@ewu.edu"
   ]
  },
  {
   "cell_type": "code",
   "execution_count": 7,
   "id": "9459c47e-4bca-4f45-be65-136edbd88632",
   "metadata": {
    "tags": [],
    "ExecuteTime": {
     "end_time": "2024-03-10T20:21:42.384723Z",
     "start_time": "2024-03-10T20:21:42.366460Z"
    }
   },
   "outputs": [],
   "source": [
    "import numpy as np\n",
    "import pandas as pd\n",
    "import matplotlib.pyplot as plt\n",
    "import nn\n",
    "import sys\n",
    "sys.path.append('..')\n",
    "from code_misc.utils import MyUtils"
   ]
  },
  {
   "cell_type": "code",
   "execution_count": 8,
   "id": "004d2501-4984-4e71-97fc-ba307dd1a5a2",
   "metadata": {
    "ExecuteTime": {
     "end_time": "2024-03-10T20:21:43.387856Z",
     "start_time": "2024-03-10T20:21:43.384870Z"
    }
   },
   "outputs": [],
   "source": [
    "k = 10  #number of classes\n",
    "d = 784 #number of features, excluding the bias feature"
   ]
  },
  {
   "cell_type": "code",
   "execution_count": 9,
   "id": "4b122b78-4cb1-4e42-a725-1427857ba84e",
   "metadata": {
    "ExecuteTime": {
     "end_time": "2024-03-10T20:22:01.867643Z",
     "start_time": "2024-03-10T20:21:44.138393Z"
    }
   },
   "outputs": [
    {
     "name": "stdout",
     "output_type": "stream",
     "text": [
      "(60000, 784)\n",
      "(60000, 10)\n",
      "(10000, 784)\n",
      "(10000, 10)\n"
     ]
    }
   ],
   "source": [
    "# READ in data\n",
    "df_X_train = pd.read_csv('MNIST/x_train.csv', header=None)\n",
    "df_y_train = pd.read_csv('MNIST/y_train.csv', header=None)\n",
    "df_X_test = pd.read_csv('MNIST/x_test.csv', header=None)\n",
    "df_y_test = pd.read_csv('MNIST/y_test.csv', header=None)\n",
    "\n",
    "# save in numpy arrays\n",
    "X_train_raw = df_X_train.to_numpy()\n",
    "y_train_raw = df_y_train.to_numpy()\n",
    "X_test_raw = df_X_test.to_numpy()\n",
    "y_test_raw = df_y_test.to_numpy()\n",
    "\n",
    "# get training set size\n",
    "n_train = X_train_raw.shape[0]\n",
    "n_test = X_test_raw.shape[0]\n",
    "\n",
    "# normalize all features to [0,1]\n",
    "X_all = MyUtils.normalize_0_1(np.concatenate((X_train_raw, X_test_raw), axis=0))\n",
    "X_train = X_all[:n_train]\n",
    "X_test = X_all[n_train:]\n",
    "\n",
    "# convert each label into a 0-1 vector\n",
    "y_train = np.zeros((n_train, k))\n",
    "y_test = np.zeros((n_test, k))\n",
    "for i in range(n_train):\n",
    "    y_train[i,int(y_train_raw[i])] = 1.0\n",
    "for i in range(n_test):\n",
    "    y_test[i,int(y_test_raw[i])] = 1.0\n",
    "\n",
    "\n",
    "print(X_train.shape)\n",
    "print(y_train.shape)\n",
    "print(X_test.shape)\n",
    "print(y_test.shape)\n",
    "#print(y_test)"
   ]
  },
  {
   "cell_type": "code",
   "execution_count": 10,
   "id": "b963de09-dd31-4382-8f97-4aceb4df56d6",
   "metadata": {
    "ExecuteTime": {
     "end_time": "2024-03-10T20:22:06.767955Z",
     "start_time": "2024-03-10T20:22:06.763908Z"
    }
   },
   "outputs": [],
   "source": [
    "#print(y_train[-10:])"
   ]
  },
  {
   "cell_type": "code",
   "execution_count": 11,
   "id": "ac8927c9-c95b-419c-8c66-a0bf831e5bd7",
   "metadata": {
    "ExecuteTime": {
     "end_time": "2024-03-10T20:22:07.260951Z",
     "start_time": "2024-03-10T20:22:07.252994Z"
    }
   },
   "outputs": [],
   "source": [
    "# build the network\n",
    "nuts = nn.NeuralNetwork()\n",
    "\n",
    "nuts.add_layer(d = d)  # input layer - 0\n",
    "\n",
    "nuts.add_layer(d = 100, act = 'relu')  # hidden layer - 1\n",
    "nuts.add_layer(d = 30, act = 'relu')  # hiddent layer - 2\n",
    "#nuts.add_layer(d = 100, act = 'relu')  # hiddent layer - 3\n",
    "#nuts.add_layer(d = 30, act = 'relu')  # hiddent layer - 4\n",
    "\n",
    "nuts.add_layer(d = k, act = 'logis')  # output layer,    multi-class classification, #classes = k"
   ]
  },
  {
   "cell_type": "code",
   "execution_count": 13,
   "id": "558e4ccf-178b-4d39-9724-e986279d7daa",
   "metadata": {
    "ExecuteTime": {
     "end_time": "2024-03-10T20:36:05.079335Z",
     "start_time": "2024-03-10T20:31:30.935360Z"
    }
   },
   "outputs": [
    {
     "ename": "KeyboardInterrupt",
     "evalue": "",
     "output_type": "error",
     "traceback": [
      "\u001B[0;31m---------------------------------------------------------------------------\u001B[0m",
      "\u001B[0;31mKeyboardInterrupt\u001B[0m                         Traceback (most recent call last)",
      "Cell \u001B[0;32mIn[13], line 1\u001B[0m\n\u001B[0;32m----> 1\u001B[0m nuts\u001B[38;5;241m.\u001B[39mfit(X_train, y_train, eta \u001B[38;5;241m=\u001B[39m \u001B[38;5;241m0.1\u001B[39m, iterations \u001B[38;5;241m=\u001B[39m \u001B[38;5;241m1000\u001B[39m, SGD \u001B[38;5;241m=\u001B[39m \u001B[38;5;28;01mTrue\u001B[39;00m, mini_batch_size \u001B[38;5;241m=\u001B[39m \u001B[38;5;241m20\u001B[39m)\n",
      "File \u001B[0;32m~/Desktop/Programs/CSCD484/tester-4/code_NN/nn.py:83\u001B[0m, in \u001B[0;36mNeuralNetwork.fit\u001B[0;34m(self, X, Y, eta, iterations, SGD, mini_batch_size)\u001B[0m\n\u001B[1;32m     81\u001B[0m         X_batch \u001B[38;5;241m=\u001B[39m X_shuffled[i:i \u001B[38;5;241m+\u001B[39m mini_batch_size]\n\u001B[1;32m     82\u001B[0m         Y_batch \u001B[38;5;241m=\u001B[39m Y_shuffled[i:i \u001B[38;5;241m+\u001B[39m mini_batch_size]\n\u001B[0;32m---> 83\u001B[0m         \u001B[38;5;28mself\u001B[39m\u001B[38;5;241m.\u001B[39m_fit_batch(X_batch, Y_batch, eta)\n\u001B[1;32m     84\u001B[0m \u001B[38;5;28;01melse\u001B[39;00m:\n\u001B[1;32m     85\u001B[0m     \u001B[38;5;28mself\u001B[39m\u001B[38;5;241m.\u001B[39m_fit_batch(X, Y, eta)\n",
      "File \u001B[0;32m~/Desktop/Programs/CSCD484/tester-4/code_NN/nn.py:96\u001B[0m, in \u001B[0;36mNeuralNetwork._fit_batch\u001B[0;34m(self, X, Y, eta)\u001B[0m\n\u001B[1;32m     94\u001B[0m \u001B[38;5;66;03m# Forward propagation\u001B[39;00m\n\u001B[1;32m     95\u001B[0m \u001B[38;5;28;01mfor\u001B[39;00m l \u001B[38;5;129;01min\u001B[39;00m \u001B[38;5;28mrange\u001B[39m(\u001B[38;5;241m1\u001B[39m, \u001B[38;5;28mlen\u001B[39m(\u001B[38;5;28mself\u001B[39m\u001B[38;5;241m.\u001B[39mlayers)):\n\u001B[0;32m---> 96\u001B[0m     A\u001B[38;5;241m.\u001B[39mappend(mu\u001B[38;5;241m.\u001B[39mMyMath\u001B[38;5;241m.\u001B[39mtanh(np\u001B[38;5;241m.\u001B[39mdot(np\u001B[38;5;241m.\u001B[39mhstack([A[\u001B[38;5;241m-\u001B[39m\u001B[38;5;241m1\u001B[39m], np\u001B[38;5;241m.\u001B[39mones((A[\u001B[38;5;241m-\u001B[39m\u001B[38;5;241m1\u001B[39m]\u001B[38;5;241m.\u001B[39mshape[\u001B[38;5;241m0\u001B[39m], \u001B[38;5;241m1\u001B[39m))]), \u001B[38;5;28mself\u001B[39m\u001B[38;5;241m.\u001B[39mlayers[l]\u001B[38;5;241m.\u001B[39mW)))\n\u001B[1;32m     99\u001B[0m \u001B[38;5;66;03m# Backward propagation\u001B[39;00m\n\u001B[1;32m    100\u001B[0m delta \u001B[38;5;241m=\u001B[39m [\u001B[38;5;28;01mNone\u001B[39;00m] \u001B[38;5;241m*\u001B[39m (\u001B[38;5;28mself\u001B[39m\u001B[38;5;241m.\u001B[39mL \u001B[38;5;241m+\u001B[39m \u001B[38;5;241m1\u001B[39m)\n",
      "File \u001B[0;32m<__array_function__ internals>:200\u001B[0m, in \u001B[0;36mdot\u001B[0;34m(*args, **kwargs)\u001B[0m\n",
      "\u001B[0;31mKeyboardInterrupt\u001B[0m: "
     ]
    }
   ],
   "source": [
    "nuts.fit(X_train, y_train, eta = 0.1, iterations = 1000, SGD = True, mini_batch_size = 20)"
   ]
  },
  {
   "cell_type": "code",
   "execution_count": null,
   "id": "b8ecd81e-7afb-4465-933a-98d53465e419",
   "metadata": {},
   "outputs": [],
   "source": [
    "print(nuts.error(X_train, y_train))\n",
    "print(nuts.error(X_test, y_test))"
   ]
  },
  {
   "cell_type": "code",
   "execution_count": null,
   "id": "caa662a0-5c7e-4399-be73-478fdec87dbd",
   "metadata": {},
   "outputs": [],
   "source": [
    "preds = nuts.predict(X_test)"
   ]
  },
  {
   "cell_type": "code",
   "execution_count": null,
   "id": "f4185626-ad8d-47ca-8253-77eb0fe21a0f",
   "metadata": {},
   "outputs": [],
   "source": [
    "#print(preds[:100])\n",
    "#print(y_test_raw[:100])\n",
    "print(np.sum(preds != y_test_raw))"
   ]
  },
  {
   "cell_type": "code",
   "execution_count": null,
   "id": "8a159f2c-5b6c-457a-a2fb-24878a34b4e0",
   "metadata": {},
   "outputs": [],
   "source": [
    "for i in range(y_test.shape[0]):\n",
    "    if preds[i] != y_test_raw[i]:\n",
    "        print('misclassified!!')\n",
    "    print('predicted as', preds[i])\n",
    "    print('label is', y_test_raw[i])\n",
    "    pixels = X_test_raw[i].reshape((28, 28))\n",
    "    plt.imshow(pixels, cmap='gray')\n",
    "    plt.show()"
   ]
  }
 ],
 "metadata": {
  "kernelspec": {
   "display_name": "Python 3 (ipykernel)",
   "language": "python",
   "name": "python3"
  },
  "language_info": {
   "codemirror_mode": {
    "name": "ipython",
    "version": 3
   },
   "file_extension": ".py",
   "mimetype": "text/x-python",
   "name": "python",
   "nbconvert_exporter": "python",
   "pygments_lexer": "ipython3",
   "version": "3.11.5"
  }
 },
 "nbformat": 4,
 "nbformat_minor": 5
}
