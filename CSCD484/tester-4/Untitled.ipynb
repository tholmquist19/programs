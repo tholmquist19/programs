{
 "cells": [
  {
   "cell_type": "code",
   "execution_count": 3,
   "id": "0e54fb5c-0db8-4ba3-ab28-5fbcfa6bf45b",
   "metadata": {
    "tags": []
   },
   "outputs": [],
   "source": [
    "from tensorflow.keras.datasets import cifar10\n",
    "from tensorflow.keras.utils import to_categorical\n",
    "from tensorflow.keras import layers, models"
   ]
  },
  {
   "cell_type": "code",
   "execution_count": 4,
   "id": "fdb9c318-0304-4a56-b075-adcee2c27658",
   "metadata": {},
   "outputs": [
    {
     "name": "stdout",
     "output_type": "stream",
     "text": [
      "Downloading data from https://www.cs.toronto.edu/~kriz/cifar-10-python.tar.gz\n",
      "170498071/170498071 [==============================] - 6s 0us/step\n"
     ]
    }
   ],
   "source": [
    "(x_train, y_train), (x_test, y_test) = cifar10.load_data()\n",
    "train_x = x_train.astype('float32') / 255\n",
    "test_x = x_test.astype('float32') / 255\n",
    "train_y = to_categorical(y_train)\n",
    "test_y = to_categorical(y_test)"
   ]
  },
  {
   "cell_type": "code",
   "execution_count": 5,
   "id": "35070ded-72b1-4a9a-88c7-f2c28edea07a",
   "metadata": {
    "tags": []
   },
   "outputs": [],
   "source": [
    "model = models.Sequential()\n",
    "model.add(layers.Conv2D(32, (3, 3), activation='relu', input_shape=(32, 32, 3)))\n",
    "model.add(layers.MaxPooling2D((2, 2)))\n",
    "model.add(layers.Conv2D(64, (3, 3), activation='relu'))\n",
    "model.add(layers.MaxPooling2D((2, 2)))\n",
    "model.add(layers.Conv2D(64, (3, 3), activation='relu'))\n",
    "model.add(layers.MaxPooling2D((2, 2)))\n",
    "model.add(layers.Flatten())\n",
    "model.add(layers.Dense(64, activation='relu'))\n",
    "model.add(layers.Dense(10, activation='softmax'))"
   ]
  },
  {
   "cell_type": "code",
   "execution_count": 6,
   "id": "dc87777c-1cd4-42e6-8fb2-66dbe3bcab14",
   "metadata": {
    "tags": []
   },
   "outputs": [
    {
     "name": "stdout",
     "output_type": "stream",
     "text": [
      "Model: \"sequential\"\n",
      "_________________________________________________________________\n",
      " Layer (type)                Output Shape              Param #   \n",
      "=================================================================\n",
      " conv2d (Conv2D)             (None, 30, 30, 32)        896       \n",
      "                                                                 \n",
      " max_pooling2d (MaxPooling2D  (None, 15, 15, 32)       0         \n",
      " )                                                               \n",
      "                                                                 \n",
      " conv2d_1 (Conv2D)           (None, 13, 13, 64)        18496     \n",
      "                                                                 \n",
      " max_pooling2d_1 (MaxPooling  (None, 6, 6, 64)         0         \n",
      " 2D)                                                             \n",
      "                                                                 \n",
      " conv2d_2 (Conv2D)           (None, 4, 4, 64)          36928     \n",
      "                                                                 \n",
      " max_pooling2d_2 (MaxPooling  (None, 2, 2, 64)         0         \n",
      " 2D)                                                             \n",
      "                                                                 \n",
      " flatten (Flatten)           (None, 256)               0         \n",
      "                                                                 \n",
      " dense (Dense)               (None, 64)                16448     \n",
      "                                                                 \n",
      " dense_1 (Dense)             (None, 10)                650       \n",
      "                                                                 \n",
      "=================================================================\n",
      "Total params: 73,418\n",
      "Trainable params: 73,418\n",
      "Non-trainable params: 0\n",
      "_________________________________________________________________\n"
     ]
    }
   ],
   "source": [
    "model.summary()"
   ]
  },
  {
   "cell_type": "code",
   "execution_count": 7,
   "id": "412b5aae-d364-4a25-89d4-800a17ed4dbf",
   "metadata": {
    "tags": []
   },
   "outputs": [
    {
     "name": "stdout",
     "output_type": "stream",
     "text": [
      "Epoch 1/30\n"
     ]
    },
    {
     "name": "stderr",
     "output_type": "stream",
     "text": [
      "2024-03-13 21:15:06.020155: W tensorflow/tsl/platform/profile_utils/cpu_utils.cc:128] Failed to get CPU frequency: 0 Hz\n"
     ]
    },
    {
     "name": "stdout",
     "output_type": "stream",
     "text": [
      "782/782 [==============================] - 14s 17ms/step - loss: 1.7189 - accuracy: 0.3720 - val_loss: 1.5044 - val_accuracy: 0.4578\n",
      "Epoch 2/30\n",
      "782/782 [==============================] - 13s 17ms/step - loss: 1.3368 - accuracy: 0.5226 - val_loss: 1.2214 - val_accuracy: 0.5657\n",
      "Epoch 3/30\n",
      "782/782 [==============================] - 13s 17ms/step - loss: 1.1623 - accuracy: 0.5912 - val_loss: 1.1553 - val_accuracy: 0.5912\n",
      "Epoch 4/30\n",
      "782/782 [==============================] - 13s 17ms/step - loss: 1.0465 - accuracy: 0.6357 - val_loss: 1.0047 - val_accuracy: 0.6584\n",
      "Epoch 5/30\n",
      "782/782 [==============================] - 13s 17ms/step - loss: 0.9541 - accuracy: 0.6696 - val_loss: 0.9566 - val_accuracy: 0.6676\n",
      "Epoch 6/30\n",
      "782/782 [==============================] - 13s 17ms/step - loss: 0.8817 - accuracy: 0.6936 - val_loss: 1.0059 - val_accuracy: 0.6561\n",
      "Epoch 7/30\n",
      "782/782 [==============================] - 13s 17ms/step - loss: 0.8216 - accuracy: 0.7126 - val_loss: 1.0179 - val_accuracy: 0.6575\n",
      "Epoch 8/30\n",
      "782/782 [==============================] - 13s 17ms/step - loss: 0.7704 - accuracy: 0.7313 - val_loss: 1.0630 - val_accuracy: 0.6462\n",
      "Epoch 9/30\n",
      "782/782 [==============================] - 13s 17ms/step - loss: 0.7210 - accuracy: 0.7520 - val_loss: 0.9561 - val_accuracy: 0.6709\n",
      "Epoch 10/30\n",
      "782/782 [==============================] - 13s 17ms/step - loss: 0.6803 - accuracy: 0.7650 - val_loss: 0.9494 - val_accuracy: 0.6819\n",
      "Epoch 11/30\n",
      "782/782 [==============================] - 13s 17ms/step - loss: 0.6424 - accuracy: 0.7771 - val_loss: 0.8638 - val_accuracy: 0.7202\n",
      "Epoch 12/30\n",
      "782/782 [==============================] - 13s 17ms/step - loss: 0.6089 - accuracy: 0.7879 - val_loss: 0.9576 - val_accuracy: 0.6898\n",
      "Epoch 13/30\n",
      "782/782 [==============================] - 13s 17ms/step - loss: 0.5773 - accuracy: 0.7986 - val_loss: 1.0367 - val_accuracy: 0.6747\n",
      "Epoch 14/30\n",
      "782/782 [==============================] - 14s 17ms/step - loss: 0.5460 - accuracy: 0.8098 - val_loss: 0.9325 - val_accuracy: 0.7011\n",
      "Epoch 15/30\n",
      "782/782 [==============================] - 13s 17ms/step - loss: 0.5209 - accuracy: 0.8195 - val_loss: 1.0859 - val_accuracy: 0.6840\n",
      "Epoch 16/30\n",
      "782/782 [==============================] - 13s 17ms/step - loss: 0.4947 - accuracy: 0.8295 - val_loss: 0.9882 - val_accuracy: 0.6981\n",
      "Epoch 17/30\n",
      "782/782 [==============================] - 14s 17ms/step - loss: 0.4701 - accuracy: 0.8359 - val_loss: 0.9626 - val_accuracy: 0.7170\n",
      "Epoch 18/30\n",
      "782/782 [==============================] - 13s 17ms/step - loss: 0.4470 - accuracy: 0.8428 - val_loss: 1.2231 - val_accuracy: 0.6581\n",
      "Epoch 19/30\n",
      "782/782 [==============================] - 13s 17ms/step - loss: 0.4252 - accuracy: 0.8497 - val_loss: 1.0364 - val_accuracy: 0.7089\n",
      "Epoch 20/30\n",
      "782/782 [==============================] - 13s 17ms/step - loss: 0.4033 - accuracy: 0.8582 - val_loss: 1.0753 - val_accuracy: 0.7026\n",
      "Epoch 21/30\n",
      "782/782 [==============================] - 13s 17ms/step - loss: 0.3828 - accuracy: 0.8648 - val_loss: 1.4012 - val_accuracy: 0.6426\n",
      "Epoch 22/30\n",
      "782/782 [==============================] - 13s 17ms/step - loss: 0.3671 - accuracy: 0.8688 - val_loss: 1.2341 - val_accuracy: 0.6892\n",
      "Epoch 23/30\n",
      "782/782 [==============================] - 13s 17ms/step - loss: 0.3489 - accuracy: 0.8751 - val_loss: 1.2560 - val_accuracy: 0.6743\n",
      "Epoch 24/30\n",
      "782/782 [==============================] - 14s 18ms/step - loss: 0.3309 - accuracy: 0.8831 - val_loss: 1.2185 - val_accuracy: 0.7055\n",
      "Epoch 25/30\n",
      "782/782 [==============================] - 13s 17ms/step - loss: 0.3159 - accuracy: 0.8877 - val_loss: 1.2938 - val_accuracy: 0.6904\n",
      "Epoch 26/30\n",
      "782/782 [==============================] - 14s 18ms/step - loss: 0.3046 - accuracy: 0.8921 - val_loss: 1.2518 - val_accuracy: 0.7022\n",
      "Epoch 27/30\n",
      "782/782 [==============================] - 14s 18ms/step - loss: 0.2894 - accuracy: 0.8963 - val_loss: 1.4930 - val_accuracy: 0.6865\n",
      "Epoch 28/30\n",
      "782/782 [==============================] - 14s 17ms/step - loss: 0.2752 - accuracy: 0.9019 - val_loss: 1.3719 - val_accuracy: 0.7064\n",
      "Epoch 29/30\n",
      "782/782 [==============================] - 14s 18ms/step - loss: 0.2652 - accuracy: 0.9050 - val_loss: 1.6421 - val_accuracy: 0.6635\n",
      "Epoch 30/30\n",
      "782/782 [==============================] - 14s 18ms/step - loss: 0.2525 - accuracy: 0.9087 - val_loss: 1.4008 - val_accuracy: 0.7075\n"
     ]
    }
   ],
   "source": [
    "model.compile(optimizer='rmsprop',\n",
    "              loss='categorical_crossentropy',\n",
    "              metrics=['accuracy'])\n",
    "\n",
    "\n",
    "history = model.fit(\n",
    "    train_x,\n",
    "    train_y,\n",
    "    batch_size=64,\n",
    "    epochs=30,\n",
    "    validation_data=(test_x, test_y)\n",
    ")"
   ]
  },
  {
   "cell_type": "code",
   "execution_count": 8,
   "id": "947e4d1f-36a5-4bb4-8a0a-90a8521e7ca2",
   "metadata": {
    "tags": []
   },
   "outputs": [
    {
     "name": "stderr",
     "output_type": "stream",
     "text": [
      "WARNING:absl:Found untraced functions such as _jit_compiled_convolution_op, _jit_compiled_convolution_op, _jit_compiled_convolution_op while saving (showing 3 of 3). These functions will not be directly callable after loading.\n"
     ]
    },
    {
     "name": "stdout",
     "output_type": "stream",
     "text": [
      "INFO:tensorflow:Assets written to: keras_CNN_CIFAR10.model/assets\n"
     ]
    },
    {
     "name": "stderr",
     "output_type": "stream",
     "text": [
      "INFO:tensorflow:Assets written to: keras_CNN_CIFAR10.model/assets\n"
     ]
    },
    {
     "name": "stdout",
     "output_type": "stream",
     "text": [
      "313/313 [==============================] - 1s 4ms/step - loss: 1.4008 - accuracy: 0.7075\n",
      "Test loss: 1.4007618427276611\n",
      "Test accuracy: 0.7074999809265137\n"
     ]
    }
   ],
   "source": [
    "model.save('keras_CNN_CIFAR10.model')\n",
    "test_loss, test_acc = model.evaluate(test_x, test_y)\n",
    "print('Test loss:', test_loss)\n",
    "print('Test accuracy:', test_acc)"
   ]
  },
  {
   "cell_type": "code",
   "execution_count": null,
   "id": "144b8cd9-3aec-4b69-bcf9-cd0ba522ef97",
   "metadata": {},
   "outputs": [],
   "source": []
  }
 ],
 "metadata": {
  "kernelspec": {
   "display_name": "Python 3 (ipykernel)",
   "language": "python",
   "name": "python3"
  },
  "language_info": {
   "codemirror_mode": {
    "name": "ipython",
    "version": 3
   },
   "file_extension": ".py",
   "mimetype": "text/x-python",
   "name": "python",
   "nbconvert_exporter": "python",
   "pygments_lexer": "ipython3",
   "version": "3.11.5"
  }
 },
 "nbformat": 4,
 "nbformat_minor": 5
}
