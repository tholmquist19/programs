{
 "cells": [
  {
   "cell_type": "code",
   "execution_count": 1,
   "id": "initial_id",
   "metadata": {
    "ExecuteTime": {
     "end_time": "2024-03-13T23:07:35.977952Z",
     "start_time": "2024-03-13T23:07:35.973122Z"
    },
    "tags": []
   },
   "outputs": [],
   "source": [
    "from tensorflow.keras.datasets import cifar10\n",
    "from tensorflow.keras.utils import to_categorical\n",
    "from tensorflow.keras import layers, models"
   ]
  },
  {
   "cell_type": "code",
   "execution_count": 2,
   "id": "36f6e563fe355f5e",
   "metadata": {
    "ExecuteTime": {
     "end_time": "2024-03-13T23:07:37.029631Z",
     "start_time": "2024-03-13T23:07:36.662262Z"
    },
    "collapsed": false,
    "jupyter": {
     "outputs_hidden": false
    },
    "tags": []
   },
   "outputs": [],
   "source": [
    "(x_train, y_train), (x_test, y_test) = cifar10.load_data()\n",
    "train_x = x_train.astype('float32') / 255  \n",
    "test_x = x_test.astype('float32') / 255\n",
    "train_y = to_categorical(y_train)   \n",
    "test_y = to_categorical(y_test)"
   ]
  },
  {
   "cell_type": "code",
   "execution_count": 3,
   "id": "4142c89337b5a55b",
   "metadata": {
    "ExecuteTime": {
     "start_time": "2024-03-13T22:47:31.489518Z"
    },
    "collapsed": false,
    "jupyter": {
     "outputs_hidden": false
    },
    "tags": []
   },
   "outputs": [],
   "source": [
    "model = models.Sequential()\n",
    "model.add(layers.Conv2D(32, (3, 3), activation='relu', input_shape=(32, 32, 3))) \n",
    "model.add(layers.MaxPooling2D((2, 2)))\n",
    "model.add(layers.Conv2D(64, (3, 3), activation='relu')) \n",
    "model.add(layers.MaxPooling2D((2, 2)))\n",
    "model.add(layers.Conv2D(64, (3, 3), activation='relu')) \n",
    "model.add(layers.MaxPooling2D((2, 2)))\n",
    "model.add(layers.Flatten())\n",
    "model.add(layers.Dense(64, activation='relu'))\n",
    "model.add(layers.Dense(10, activation='softmax'))"
   ]
  },
  {
   "cell_type": "code",
   "execution_count": 4,
   "id": "7f36ed55dcfb3dd8",
   "metadata": {
    "ExecuteTime": {
     "end_time": "2024-03-13T22:47:31.491786Z",
     "start_time": "2024-03-13T22:47:31.491629Z"
    },
    "collapsed": false,
    "jupyter": {
     "outputs_hidden": false
    },
    "tags": []
   },
   "outputs": [
    {
     "name": "stdout",
     "output_type": "stream",
     "text": [
      "Model: \"sequential\"\n",
      "_________________________________________________________________\n",
      " Layer (type)                Output Shape              Param #   \n",
      "=================================================================\n",
      " conv2d (Conv2D)             (None, 30, 30, 32)        896       \n",
      "                                                                 \n",
      " max_pooling2d (MaxPooling2D  (None, 15, 15, 32)       0         \n",
      " )                                                               \n",
      "                                                                 \n",
      " conv2d_1 (Conv2D)           (None, 13, 13, 64)        18496     \n",
      "                                                                 \n",
      " max_pooling2d_1 (MaxPooling  (None, 6, 6, 64)         0         \n",
      " 2D)                                                             \n",
      "                                                                 \n",
      " conv2d_2 (Conv2D)           (None, 4, 4, 64)          36928     \n",
      "                                                                 \n",
      " max_pooling2d_2 (MaxPooling  (None, 2, 2, 64)         0         \n",
      " 2D)                                                             \n",
      "                                                                 \n",
      " flatten (Flatten)           (None, 256)               0         \n",
      "                                                                 \n",
      " dense (Dense)               (None, 64)                16448     \n",
      "                                                                 \n",
      " dense_1 (Dense)             (None, 10)                650       \n",
      "                                                                 \n",
      "=================================================================\n",
      "Total params: 73,418\n",
      "Trainable params: 73,418\n",
      "Non-trainable params: 0\n",
      "_________________________________________________________________\n"
     ]
    }
   ],
   "source": [
    "model.summary()"
   ]
  },
  {
   "cell_type": "code",
   "execution_count": 5,
   "id": "509f57f5c054b2b3",
   "metadata": {
    "ExecuteTime": {
     "end_time": "2024-03-13T22:47:31.494298Z",
     "start_time": "2024-03-13T22:47:31.493221Z"
    },
    "collapsed": false,
    "jupyter": {
     "outputs_hidden": false
    },
    "tags": []
   },
   "outputs": [
    {
     "name": "stdout",
     "output_type": "stream",
     "text": [
      "Epoch 1/30\n"
     ]
    },
    {
     "name": "stderr",
     "output_type": "stream",
     "text": [
      "2024-03-14 15:40:31.561228: W tensorflow/tsl/platform/profile_utils/cpu_utils.cc:128] Failed to get CPU frequency: 0 Hz\n"
     ]
    },
    {
     "name": "stdout",
     "output_type": "stream",
     "text": [
      "782/782 [==============================] - 13s 16ms/step - loss: 1.7132 - accuracy: 0.3774 - val_loss: 1.6584 - val_accuracy: 0.3966\n",
      "Epoch 2/30\n",
      "782/782 [==============================] - 12s 16ms/step - loss: 1.3309 - accuracy: 0.5278 - val_loss: 1.3401 - val_accuracy: 0.5252\n",
      "Epoch 3/30\n",
      "782/782 [==============================] - 12s 16ms/step - loss: 1.1675 - accuracy: 0.5928 - val_loss: 1.1831 - val_accuracy: 0.5774\n",
      "Epoch 4/30\n",
      "782/782 [==============================] - 12s 16ms/step - loss: 1.0552 - accuracy: 0.6335 - val_loss: 1.0925 - val_accuracy: 0.6250\n",
      "Epoch 5/30\n",
      "782/782 [==============================] - 12s 16ms/step - loss: 0.9668 - accuracy: 0.6649 - val_loss: 1.0481 - val_accuracy: 0.6309\n",
      "Epoch 6/30\n",
      "782/782 [==============================] - 12s 16ms/step - loss: 0.8970 - accuracy: 0.6882 - val_loss: 0.9675 - val_accuracy: 0.6642\n",
      "Epoch 7/30\n",
      "782/782 [==============================] - 13s 16ms/step - loss: 0.8366 - accuracy: 0.7090 - val_loss: 1.1313 - val_accuracy: 0.6243\n",
      "Epoch 8/30\n",
      "782/782 [==============================] - 13s 16ms/step - loss: 0.7871 - accuracy: 0.7266 - val_loss: 0.9605 - val_accuracy: 0.6725\n",
      "Epoch 9/30\n",
      "782/782 [==============================] - 13s 16ms/step - loss: 0.7424 - accuracy: 0.7410 - val_loss: 1.0576 - val_accuracy: 0.6486\n",
      "Epoch 10/30\n",
      "782/782 [==============================] - 13s 16ms/step - loss: 0.7020 - accuracy: 0.7559 - val_loss: 1.0584 - val_accuracy: 0.6493\n",
      "Epoch 11/30\n",
      "782/782 [==============================] - 13s 16ms/step - loss: 0.6663 - accuracy: 0.7702 - val_loss: 0.9533 - val_accuracy: 0.6860\n",
      "Epoch 12/30\n",
      "782/782 [==============================] - 13s 16ms/step - loss: 0.6259 - accuracy: 0.7831 - val_loss: 1.0078 - val_accuracy: 0.6755\n",
      "Epoch 13/30\n",
      "782/782 [==============================] - 13s 16ms/step - loss: 0.5965 - accuracy: 0.7930 - val_loss: 0.9492 - val_accuracy: 0.6983\n",
      "Epoch 14/30\n",
      "782/782 [==============================] - 13s 16ms/step - loss: 0.5682 - accuracy: 0.8016 - val_loss: 1.1460 - val_accuracy: 0.6539\n",
      "Epoch 15/30\n",
      "782/782 [==============================] - 13s 17ms/step - loss: 0.5404 - accuracy: 0.8124 - val_loss: 0.8908 - val_accuracy: 0.7169\n",
      "Epoch 16/30\n",
      "782/782 [==============================] - 14s 18ms/step - loss: 0.5158 - accuracy: 0.8202 - val_loss: 0.9224 - val_accuracy: 0.7159\n",
      "Epoch 17/30\n",
      "782/782 [==============================] - 13s 17ms/step - loss: 0.4905 - accuracy: 0.8283 - val_loss: 1.2653 - val_accuracy: 0.6401\n",
      "Epoch 18/30\n",
      "782/782 [==============================] - 13s 16ms/step - loss: 0.4698 - accuracy: 0.8364 - val_loss: 1.2834 - val_accuracy: 0.6610\n",
      "Epoch 19/30\n",
      "782/782 [==============================] - 13s 16ms/step - loss: 0.4458 - accuracy: 0.8431 - val_loss: 1.1226 - val_accuracy: 0.6786\n",
      "Epoch 20/30\n",
      "782/782 [==============================] - 12s 16ms/step - loss: 0.4251 - accuracy: 0.8501 - val_loss: 1.0844 - val_accuracy: 0.6974\n",
      "Epoch 21/30\n",
      "782/782 [==============================] - 12s 16ms/step - loss: 0.4060 - accuracy: 0.8557 - val_loss: 1.0921 - val_accuracy: 0.6976\n",
      "Epoch 22/30\n",
      "782/782 [==============================] - 12s 16ms/step - loss: 0.3877 - accuracy: 0.8623 - val_loss: 1.0866 - val_accuracy: 0.7078\n",
      "Epoch 23/30\n",
      "782/782 [==============================] - 13s 16ms/step - loss: 0.3696 - accuracy: 0.8707 - val_loss: 1.1200 - val_accuracy: 0.7055\n",
      "Epoch 24/30\n",
      "782/782 [==============================] - 12s 16ms/step - loss: 0.3538 - accuracy: 0.8754 - val_loss: 1.3129 - val_accuracy: 0.6837\n",
      "Epoch 25/30\n",
      "782/782 [==============================] - 12s 16ms/step - loss: 0.3356 - accuracy: 0.8808 - val_loss: 1.2332 - val_accuracy: 0.6998\n",
      "Epoch 26/30\n",
      "782/782 [==============================] - 13s 16ms/step - loss: 0.3240 - accuracy: 0.8863 - val_loss: 1.4187 - val_accuracy: 0.6832\n",
      "Epoch 27/30\n",
      "782/782 [==============================] - 13s 16ms/step - loss: 0.3072 - accuracy: 0.8925 - val_loss: 1.2928 - val_accuracy: 0.6953\n",
      "Epoch 28/30\n",
      "782/782 [==============================] - 13s 16ms/step - loss: 0.2923 - accuracy: 0.8956 - val_loss: 1.2894 - val_accuracy: 0.6967\n",
      "Epoch 29/30\n",
      "782/782 [==============================] - 13s 16ms/step - loss: 0.2830 - accuracy: 0.8986 - val_loss: 1.4069 - val_accuracy: 0.6884\n",
      "Epoch 30/30\n",
      "782/782 [==============================] - 13s 16ms/step - loss: 0.2712 - accuracy: 0.9026 - val_loss: 1.4079 - val_accuracy: 0.7037\n"
     ]
    }
   ],
   "source": [
    "model.compile(optimizer='rmsprop',\n",
    "              loss='categorical_crossentropy',\n",
    "              metrics=['accuracy'])\n",
    "\n",
    "\n",
    "history = model.fit(\n",
    "    train_x,\n",
    "    train_y,\n",
    "    batch_size=64,\n",
    "    epochs=30,\n",
    "    validation_data=(test_x, test_y)\n",
    ")"
   ]
  },
  {
   "cell_type": "code",
   "execution_count": 6,
   "id": "1a5ccb27ef8daa77",
   "metadata": {
    "ExecuteTime": {
     "start_time": "2024-03-13T22:47:31.494449Z"
    },
    "collapsed": false,
    "jupyter": {
     "outputs_hidden": false
    },
    "tags": []
   },
   "outputs": [
    {
     "name": "stderr",
     "output_type": "stream",
     "text": [
      "WARNING:absl:Found untraced functions such as _jit_compiled_convolution_op, _jit_compiled_convolution_op, _jit_compiled_convolution_op while saving (showing 3 of 3). These functions will not be directly callable after loading.\n"
     ]
    },
    {
     "name": "stdout",
     "output_type": "stream",
     "text": [
      "INFO:tensorflow:Assets written to: keras_CNN_CIFAR10.model/assets\n"
     ]
    },
    {
     "name": "stderr",
     "output_type": "stream",
     "text": [
      "INFO:tensorflow:Assets written to: keras_CNN_CIFAR10.model/assets\n"
     ]
    },
    {
     "name": "stdout",
     "output_type": "stream",
     "text": [
      "313/313 [==============================] - 1s 3ms/step - loss: 1.4079 - accuracy: 0.7037\n",
      "Test loss: 1.4078646898269653\n",
      "Test accuracy: 0.7037000060081482\n"
     ]
    }
   ],
   "source": [
    "model.save('keras_CNN_CIFAR10.model')\n",
    "test_loss, test_acc = model.evaluate(test_x, test_y)\n",
    "print('Test loss:', test_loss)\n",
    "print('Test accuracy:', test_acc)"
   ]
  },
  {
   "cell_type": "code",
   "execution_count": null,
   "id": "e8b22e11-645e-4f70-aec8-0f7adec13932",
   "metadata": {},
   "outputs": [],
   "source": []
  }
 ],
 "metadata": {
  "kernelspec": {
   "display_name": "Python 3 (ipykernel)",
   "language": "python",
   "name": "python3"
  },
  "language_info": {
   "codemirror_mode": {
    "name": "ipython",
    "version": 3
   },
   "file_extension": ".py",
   "mimetype": "text/x-python",
   "name": "python",
   "nbconvert_exporter": "python",
   "pygments_lexer": "ipython3",
   "version": "3.11.5"
  }
 },
 "nbformat": 4,
 "nbformat_minor": 5
}
