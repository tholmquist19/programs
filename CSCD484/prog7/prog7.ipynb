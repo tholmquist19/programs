{
 "cells": [
  {
   "cell_type": "code",
   "execution_count": 1,
   "id": "initial_id",
   "metadata": {
    "ExecuteTime": {
     "end_time": "2024-03-13T23:07:35.977952Z",
     "start_time": "2024-03-13T23:07:35.973122Z"
    },
    "tags": []
   },
   "outputs": [],
   "source": [
    "from tensorflow.keras.datasets import cifar10\n",
    "from tensorflow.keras.utils import to_categorical\n",
    "from tensorflow.keras import layers, models"
   ]
  },
  {
   "cell_type": "code",
   "execution_count": 2,
   "id": "36f6e563fe355f5e",
   "metadata": {
    "ExecuteTime": {
     "end_time": "2024-03-13T23:07:37.029631Z",
     "start_time": "2024-03-13T23:07:36.662262Z"
    },
    "collapsed": false,
    "jupyter": {
     "outputs_hidden": false
    },
    "tags": []
   },
   "outputs": [],
   "source": [
    "(x_train, y_train), (x_test, y_test) = cifar10.load_data()\n",
    "train_x = x_train.astype('float32') / 255  \n",
    "test_x = x_test.astype('float32') / 255\n",
    "train_y = to_categorical(y_train)   \n",
    "test_y = to_categorical(y_test)"
   ]
  },
  {
   "cell_type": "code",
   "execution_count": 3,
   "id": "4142c89337b5a55b",
   "metadata": {
    "ExecuteTime": {
     "start_time": "2024-03-13T22:47:31.489518Z"
    },
    "collapsed": false,
    "jupyter": {
     "outputs_hidden": false
    },
    "tags": []
   },
   "outputs": [],
   "source": [
    "model = models.Sequential()\n",
    "model.add(layers.Conv2D(32, (3, 3), activation='relu', input_shape=(32, 32, 3))) \n",
    "model.add(layers.MaxPooling2D((2, 2)))\n",
    "model.add(layers.Conv2D(64, (3, 3), activation='relu')) \n",
    "model.add(layers.MaxPooling2D((2, 2)))\n",
    "model.add(layers.Conv2D(64, (3, 3), activation='relu')) \n",
    "model.add(layers.MaxPooling2D((2, 2)))\n",
    "model.add(layers.Flatten())\n",
    "model.add(layers.Dense(64, activation='relu'))\n",
    "model.add(layers.Dense(10, activation='softmax'))"
   ]
  },
  {
   "cell_type": "code",
   "execution_count": 4,
   "id": "7f36ed55dcfb3dd8",
   "metadata": {
    "ExecuteTime": {
     "end_time": "2024-03-13T22:47:31.491786Z",
     "start_time": "2024-03-13T22:47:31.491629Z"
    },
    "collapsed": false,
    "jupyter": {
     "outputs_hidden": false
    },
    "tags": []
   },
   "outputs": [
    {
     "name": "stdout",
     "output_type": "stream",
     "text": [
      "Model: \"sequential\"\n",
      "_________________________________________________________________\n",
      " Layer (type)                Output Shape              Param #   \n",
      "=================================================================\n",
      " conv2d (Conv2D)             (None, 30, 30, 32)        896       \n",
      "                                                                 \n",
      " max_pooling2d (MaxPooling2D  (None, 15, 15, 32)       0         \n",
      " )                                                               \n",
      "                                                                 \n",
      " conv2d_1 (Conv2D)           (None, 13, 13, 64)        18496     \n",
      "                                                                 \n",
      " max_pooling2d_1 (MaxPooling  (None, 6, 6, 64)         0         \n",
      " 2D)                                                             \n",
      "                                                                 \n",
      " conv2d_2 (Conv2D)           (None, 4, 4, 64)          36928     \n",
      "                                                                 \n",
      " max_pooling2d_2 (MaxPooling  (None, 2, 2, 64)         0         \n",
      " 2D)                                                             \n",
      "                                                                 \n",
      " flatten (Flatten)           (None, 256)               0         \n",
      "                                                                 \n",
      " dense (Dense)               (None, 64)                16448     \n",
      "                                                                 \n",
      " dense_1 (Dense)             (None, 10)                650       \n",
      "                                                                 \n",
      "=================================================================\n",
      "Total params: 73,418\n",
      "Trainable params: 73,418\n",
      "Non-trainable params: 0\n",
      "_________________________________________________________________\n"
     ]
    }
   ],
   "source": [
    "model.summary()"
   ]
  },
  {
   "cell_type": "code",
   "execution_count": 5,
   "id": "509f57f5c054b2b3",
   "metadata": {
    "ExecuteTime": {
     "end_time": "2024-03-13T22:47:31.494298Z",
     "start_time": "2024-03-13T22:47:31.493221Z"
    },
    "collapsed": false,
    "jupyter": {
     "outputs_hidden": false
    },
    "tags": []
   },
   "outputs": [
    {
     "name": "stdout",
     "output_type": "stream",
     "text": [
      "Epoch 1/30\n"
     ]
    },
    {
     "name": "stderr",
     "output_type": "stream",
     "text": [
      "2024-03-14 16:00:14.374175: W tensorflow/tsl/platform/profile_utils/cpu_utils.cc:128] Failed to get CPU frequency: 0 Hz\n"
     ]
    },
    {
     "name": "stdout",
     "output_type": "stream",
     "text": [
      "782/782 [==============================] - 13s 17ms/step - loss: 1.6766 - accuracy: 0.3918 - val_loss: 1.6951 - val_accuracy: 0.4330\n",
      "Epoch 2/30\n",
      "782/782 [==============================] - 13s 17ms/step - loss: 1.2907 - accuracy: 0.5448 - val_loss: 1.2714 - val_accuracy: 0.5368\n",
      "Epoch 3/30\n",
      "782/782 [==============================] - 13s 17ms/step - loss: 1.1227 - accuracy: 0.6075 - val_loss: 1.1098 - val_accuracy: 0.6125\n",
      "Epoch 4/30\n",
      "782/782 [==============================] - 13s 17ms/step - loss: 1.0174 - accuracy: 0.6458 - val_loss: 1.1357 - val_accuracy: 0.6013\n",
      "Epoch 5/30\n",
      "782/782 [==============================] - 13s 17ms/step - loss: 0.9327 - accuracy: 0.6753 - val_loss: 0.9911 - val_accuracy: 0.6634\n",
      "Epoch 6/30\n",
      "782/782 [==============================] - 13s 17ms/step - loss: 0.8605 - accuracy: 0.7033 - val_loss: 0.9649 - val_accuracy: 0.6678\n",
      "Epoch 7/30\n",
      "782/782 [==============================] - 13s 17ms/step - loss: 0.8038 - accuracy: 0.7199 - val_loss: 0.8977 - val_accuracy: 0.6925\n",
      "Epoch 8/30\n",
      "782/782 [==============================] - 13s 17ms/step - loss: 0.7543 - accuracy: 0.7400 - val_loss: 1.0285 - val_accuracy: 0.6580\n",
      "Epoch 9/30\n",
      "782/782 [==============================] - 13s 17ms/step - loss: 0.7108 - accuracy: 0.7528 - val_loss: 1.0236 - val_accuracy: 0.6615\n",
      "Epoch 10/30\n",
      "782/782 [==============================] - 13s 17ms/step - loss: 0.6728 - accuracy: 0.7659 - val_loss: 0.9900 - val_accuracy: 0.6732\n",
      "Epoch 11/30\n",
      "782/782 [==============================] - 13s 17ms/step - loss: 0.6350 - accuracy: 0.7808 - val_loss: 0.9895 - val_accuracy: 0.6779\n",
      "Epoch 12/30\n",
      "782/782 [==============================] - 13s 17ms/step - loss: 0.6038 - accuracy: 0.7907 - val_loss: 0.9945 - val_accuracy: 0.6773\n",
      "Epoch 13/30\n",
      "782/782 [==============================] - 13s 17ms/step - loss: 0.5741 - accuracy: 0.8009 - val_loss: 0.8928 - val_accuracy: 0.7121\n",
      "Epoch 14/30\n",
      "782/782 [==============================] - 13s 17ms/step - loss: 0.5409 - accuracy: 0.8126 - val_loss: 0.9946 - val_accuracy: 0.6922\n",
      "Epoch 15/30\n",
      "782/782 [==============================] - 13s 17ms/step - loss: 0.5157 - accuracy: 0.8195 - val_loss: 0.9732 - val_accuracy: 0.7133\n",
      "Epoch 16/30\n",
      "782/782 [==============================] - 13s 17ms/step - loss: 0.4903 - accuracy: 0.8273 - val_loss: 0.9222 - val_accuracy: 0.7169\n",
      "Epoch 17/30\n",
      "782/782 [==============================] - 13s 17ms/step - loss: 0.4678 - accuracy: 0.8365 - val_loss: 0.9775 - val_accuracy: 0.7104\n",
      "Epoch 18/30\n",
      "782/782 [==============================] - 13s 17ms/step - loss: 0.4473 - accuracy: 0.8430 - val_loss: 1.0403 - val_accuracy: 0.6989\n",
      "Epoch 19/30\n",
      "782/782 [==============================] - 13s 17ms/step - loss: 0.4254 - accuracy: 0.8514 - val_loss: 1.0021 - val_accuracy: 0.7098\n",
      "Epoch 20/30\n",
      "782/782 [==============================] - 13s 17ms/step - loss: 0.4065 - accuracy: 0.8573 - val_loss: 1.1538 - val_accuracy: 0.6948\n",
      "Epoch 21/30\n",
      "782/782 [==============================] - 13s 17ms/step - loss: 0.3842 - accuracy: 0.8638 - val_loss: 1.0976 - val_accuracy: 0.7049\n",
      "Epoch 22/30\n",
      "782/782 [==============================] - 13s 17ms/step - loss: 0.3661 - accuracy: 0.8713 - val_loss: 1.0970 - val_accuracy: 0.7139\n",
      "Epoch 23/30\n",
      "782/782 [==============================] - 13s 17ms/step - loss: 0.3508 - accuracy: 0.8760 - val_loss: 1.1990 - val_accuracy: 0.6954\n",
      "Epoch 24/30\n",
      "782/782 [==============================] - 13s 17ms/step - loss: 0.3317 - accuracy: 0.8826 - val_loss: 1.2734 - val_accuracy: 0.6889\n",
      "Epoch 25/30\n",
      "782/782 [==============================] - 13s 17ms/step - loss: 0.3222 - accuracy: 0.8857 - val_loss: 1.3048 - val_accuracy: 0.6962\n",
      "Epoch 26/30\n",
      "782/782 [==============================] - 13s 17ms/step - loss: 0.3057 - accuracy: 0.8911 - val_loss: 1.2576 - val_accuracy: 0.7041\n",
      "Epoch 27/30\n",
      "782/782 [==============================] - 13s 17ms/step - loss: 0.2924 - accuracy: 0.8958 - val_loss: 1.2767 - val_accuracy: 0.6988\n",
      "Epoch 28/30\n",
      "782/782 [==============================] - 14s 17ms/step - loss: 0.2815 - accuracy: 0.9006 - val_loss: 1.4134 - val_accuracy: 0.6902\n",
      "Epoch 29/30\n",
      "782/782 [==============================] - 13s 17ms/step - loss: 0.2664 - accuracy: 0.9060 - val_loss: 1.3401 - val_accuracy: 0.7031\n",
      "Epoch 30/30\n",
      "782/782 [==============================] - 13s 17ms/step - loss: 0.2568 - accuracy: 0.9093 - val_loss: 1.5070 - val_accuracy: 0.6848\n"
     ]
    }
   ],
   "source": [
    "model.compile(optimizer='rmsprop',\n",
    "              loss='categorical_crossentropy',\n",
    "              metrics=['accuracy'])\n",
    "\n",
    "\n",
    "history = model.fit(\n",
    "    train_x,\n",
    "    train_y,\n",
    "    batch_size=64,\n",
    "    epochs=30,\n",
    "    validation_data=(test_x, test_y)\n",
    ")"
   ]
  },
  {
   "cell_type": "code",
   "execution_count": 6,
   "id": "1a5ccb27ef8daa77",
   "metadata": {
    "ExecuteTime": {
     "start_time": "2024-03-13T22:47:31.494449Z"
    },
    "collapsed": false,
    "jupyter": {
     "outputs_hidden": false
    },
    "tags": []
   },
   "outputs": [
    {
     "name": "stderr",
     "output_type": "stream",
     "text": [
      "WARNING:absl:Found untraced functions such as _jit_compiled_convolution_op, _jit_compiled_convolution_op, _jit_compiled_convolution_op while saving (showing 3 of 3). These functions will not be directly callable after loading.\n"
     ]
    },
    {
     "name": "stdout",
     "output_type": "stream",
     "text": [
      "INFO:tensorflow:Assets written to: keras_CNN_CIFAR10.model/assets\n"
     ]
    },
    {
     "name": "stderr",
     "output_type": "stream",
     "text": [
      "INFO:tensorflow:Assets written to: keras_CNN_CIFAR10.model/assets\n"
     ]
    },
    {
     "name": "stdout",
     "output_type": "stream",
     "text": [
      "313/313 [==============================] - 1s 4ms/step - loss: 1.5070 - accuracy: 0.6848\n",
      "Test loss: 1.5070220232009888\n",
      "Test accuracy: 0.6848000288009644\n"
     ]
    }
   ],
   "source": [
    "model.save('keras_CNN_CIFAR10.model')\n",
    "test_loss, test_acc = model.evaluate(test_x, test_y)\n",
    "print('Test loss:', test_loss)\n",
    "print('Test accuracy:', test_acc)"
   ]
  },
  {
   "cell_type": "code",
   "execution_count": null,
   "id": "e8b22e11-645e-4f70-aec8-0f7adec13932",
   "metadata": {},
   "outputs": [],
   "source": []
  }
 ],
 "metadata": {
  "kernelspec": {
   "display_name": "Python 3 (ipykernel)",
   "language": "python",
   "name": "python3"
  },
  "language_info": {
   "codemirror_mode": {
    "name": "ipython",
    "version": 3
   },
   "file_extension": ".py",
   "mimetype": "text/x-python",
   "name": "python",
   "nbconvert_exporter": "python",
   "pygments_lexer": "ipython3",
   "version": "3.11.5"
  }
 },
 "nbformat": 4,
 "nbformat_minor": 5
}
